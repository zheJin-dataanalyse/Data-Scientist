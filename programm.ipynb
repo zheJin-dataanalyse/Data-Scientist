{
 "cells": [
  {
   "cell_type": "code",
   "execution_count": 39,
   "id": "61e5d321-d4c7-416e-b6a8-659cb9ddb05c",
   "metadata": {},
   "outputs": [
    {
     "name": "stdout",
     "output_type": "stream",
     "text": [
      "order ist vorhaben\n"
     ]
    }
   ],
   "source": [
    "# Bayerische Grundschule: Matematik-Klasse 4\n",
    "# Version:1.0\n",
    "# Das Programm kann zufällig 10 Aufgaben mit jeweils einer der Operationen (+, -, , /) generieren\n",
    "# Addition und Subtraktion sind dreistellige Zahlen\n",
    "# Die Multiplikation ist eine dreistellige Zahl mal einer einstelligen Zahl.,\n",
    "# Die Division ist eine dreistellige Zahl durch eine einstellige Zahl, ohne Rest.\n",
    "# Alle Aufgaben werden in einer TXT-Datei generiert und anhand des Erstellungsdatums und der Uhrzeit benannt\n",
    "\n",
    "import os\n",
    "import random\n",
    "from datetime import datetime\n",
    "\n",
    "if not  os.path.isdir('C:\\\\Users\\\\ZheJin\\\\PCAP\\\\Erik\\\\Math'):\n",
    "    os.makedirs('C:\\\\Users\\\\ZheJin\\\\PCAP\\\\Erik\\\\Math')\n",
    "else: \n",
    "    print('order ist vorhaben')\n",
    "\n",
    "def add(file,number):\n",
    "    for _ in range(number):\n",
    "        a1,b1=random.randrange(100,1000),random.randrange(100,1000)\n",
    "        a2,b2=random.randrange(100,1000),random.randrange(100,1000)\n",
    "        file.write(f'{a1}+{b1}=\\t\\t\\t\\t\\t{a2}+{b2}=\\n\\n')\n",
    "\n",
    "\n",
    "def minus(file,number):\n",
    "    i=0\n",
    "    while i<number:\n",
    "       a1,b1=random.randrange(100,1000),random.randrange(100,1000)\n",
    "       a2,b2=random.randrange(100,1000),random.randrange(100,1000)\n",
    "       if a1>b1 & a2>b2:\n",
    "\n",
    "            file.write(f'{a1}-{b1}=\\t\\t\\t\\t\\t{a2}-{b2}=\\n\\n')\n",
    "            i+=1\n",
    "       else:\n",
    "            continue\n",
    "\n",
    "\n",
    "def multi(file,number):\n",
    "    for _ in range(number):\n",
    "       a1,b1=random.randrange(100,1000),random.randrange(1,10)\n",
    "       a2,b2=random.randrange(100,1000),random.randrange(1,10)\n",
    "       file.write(f'{a1}·{b1}=\\t\\t\\t\\t\\t\\t{a2}·{b2}=\\n\\n')\n",
    "\n",
    "\n",
    "def div(file,number):\n",
    "        i=0\n",
    "        while i<number:\n",
    "           a1,b1=random.randrange(100,1000),random.randrange(2,10)\n",
    "           a2,b2=random.randrange(100,1000),random.randrange(2,10)\n",
    "           if a1%b1==0 & a2%b2==0:\n",
    "                file.write(f'{a1}:{b1}=\\t\\t\\t\\t\\t\\t{a2}:{b2}=\\n\\n')\n",
    "                i+=1\n",
    "           else:\n",
    "                continue\n",
    "        \n",
    "\n",
    "def main(number):\n",
    "   \n",
    "    file_path = f'C:\\\\Users\\\\ZheJin\\\\PCAP\\\\Erik\\\\Math\\\\{datetime.now().strftime(\"%Y-%m-%d_%H-%M-%S\")}_math_operation.txt'\n",
    "\n",
    "    # open the file\n",
    "    with open(file_path, 'a') as file:\n",
    "\n",
    "        add(file, number)       \n",
    "        minus(file, number)    \n",
    "        multi(file, number)     \n",
    "        div(file, number)       "
   ]
  },
  {
   "cell_type": "code",
   "execution_count": 40,
   "id": "b63eb03b-8b2e-4163-b6d9-bc44637ee71f",
   "metadata": {},
   "outputs": [],
   "source": [
    "main(5)"
   ]
  }
 ],
 "metadata": {
  "kernelspec": {
   "display_name": "Python 3 (ipykernel)",
   "language": "python",
   "name": "python3"
  },
  "language_info": {
   "codemirror_mode": {
    "name": "ipython",
    "version": 3
   },
   "file_extension": ".py",
   "mimetype": "text/x-python",
   "name": "python",
   "nbconvert_exporter": "python",
   "pygments_lexer": "ipython3",
   "version": "3.12.6"
  }
 },
 "nbformat": 4,
 "nbformat_minor": 5
}
